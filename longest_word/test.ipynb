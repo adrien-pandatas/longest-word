{
 "cells": [
  {
   "cell_type": "code",
   "execution_count": 2,
   "metadata": {},
   "outputs": [],
   "source": [
    "import string\n",
    "import random"
   ]
  },
  {
   "cell_type": "code",
   "execution_count": 4,
   "metadata": {},
   "outputs": [
    {
     "name": "stdout",
     "output_type": "stream",
     "text": [
      "['V', 'V', 'X', 'I', 'U', 'D', 'B', 'X', 'F']\n"
     ]
    }
   ],
   "source": [
    "res = (random.choices(string.ascii_letters,\n",
    "        k=9))\n",
    "\n",
    "print(str(res).upper())\n"
   ]
  },
  {
   "cell_type": "code",
   "execution_count": 5,
   "metadata": {},
   "outputs": [],
   "source": [
    "import string\n",
    "import random\n",
    "\n",
    "class Game:\n",
    "    def __init__(self) -> list:\n",
    "        \"\"\"Attribute a random grid to size 9\"\"\"\n",
    "        self.grid = (random.choices(string.ascii_uppercase,k=9))\n",
    "\n",
    "    def is_valid(self, word: str) -> bool:\n",
    "        \"\"\"Return True if and only if the word is valid, given the Game's grid\"\"\"\n",
    "        li = []\n",
    "        if word == '':\n",
    "            return False\n",
    "        else:\n",
    "            for letter in list(word):\n",
    "                if letter in self.grid:\n",
    "                    li.append(True)\n",
    "                else:\n",
    "                    li.append(False)\n",
    "        if False in li:\n",
    "            return False\n",
    "        else:\n",
    "            return True\n"
   ]
  },
  {
   "cell_type": "code",
   "execution_count": 10,
   "metadata": {},
   "outputs": [],
   "source": [
    "def is_valid(grid, word: str) -> bool:\n",
    "    \"\"\"Return True if and only if the word is valid, given the Game's grid\"\"\"\n",
    "    li = []\n",
    "    if word == '':\n",
    "        return False\n",
    "    else:\n",
    "        for letter in list(word):\n",
    "            if letter in grid:\n",
    "                li.append(True)\n",
    "            else:\n",
    "                li.append(False)\n",
    "    if False in li:\n",
    "        return False\n",
    "    else:\n",
    "        return True\n"
   ]
  },
  {
   "cell_type": "code",
   "execution_count": 12,
   "metadata": {},
   "outputs": [
    {
     "data": {
      "text/plain": [
       "False"
      ]
     },
     "execution_count": 12,
     "metadata": {},
     "output_type": "execute_result"
    }
   ],
   "source": [
    "is_valid(['A', 'B', 'A', 'B'], 'AC')"
   ]
  },
  {
   "cell_type": "code",
   "execution_count": null,
   "metadata": {},
   "outputs": [],
   "source": []
  }
 ],
 "metadata": {
  "kernelspec": {
   "display_name": ".venv",
   "language": "python",
   "name": "python3"
  },
  "language_info": {
   "codemirror_mode": {
    "name": "ipython",
    "version": 3
   },
   "file_extension": ".py",
   "mimetype": "text/x-python",
   "name": "python",
   "nbconvert_exporter": "python",
   "pygments_lexer": "ipython3",
   "version": "3.8.14"
  }
 },
 "nbformat": 4,
 "nbformat_minor": 2
}
